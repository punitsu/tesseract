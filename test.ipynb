{
 "cells": [
  {
   "cell_type": "code",
   "execution_count": 12,
   "metadata": {},
   "outputs": [],
   "source": [
    "import pytesseract\n",
    "from pdf2image import convert_from_path\n",
    "from docx import Document"
   ]
  },
  {
   "cell_type": "code",
   "execution_count": 13,
   "metadata": {},
   "outputs": [],
   "source": [
    "path = f'/home/punitsureka/Desktop/talview/OCR/tesseract/debu.png'"
   ]
  },
  {
   "cell_type": "code",
   "execution_count": 14,
   "metadata": {},
   "outputs": [],
   "source": [
    "text = pytesseract.image_to_string(path)"
   ]
  },
  {
   "cell_type": "code",
   "execution_count": 15,
   "metadata": {},
   "outputs": [
    {
     "data": {
      "text/plain": [
       "\" \\n\\nDebarghya Das\\n\\ndeedyeatb.com | 607.379.5733 dd367~comelLedy\\n\\ndobarghyadas.com| fo.co/dd\\n\\n \\n\\n \\n\\nEDUCATION\\n\\n‘CORNELL UNIVERSITY\\nMENG IN ComPUTER SCIENCE\\nDee 2024 ithaca, NY\\n\\n‘CORNELL UNIVERSITY\\nBSN COMPUTER SCIENCE\\nMay 20.41 Rhaca, NY\\nCalege of Engineering\\n\\nMagn Cum tute\\n\\nCum GPA'383 / 40\\n\\nMajor GPA 39/40\\n\\nLAMARTINIERE FOR BOYS\\nGrad, May 2011 Kolkata, Ina\\n\\nLINKS\\nFacebook\\n\\nChub deed\\nUnteclin debarghadas\\nYouTube. DeedyDasho0?\\nTits @debargya, das\\n(Quota Debary Das\\n\\nCOURSEWORK\\n\\nGRADUATE\\n‘Advoced Machine Leaning\\n(OpenSource Software Engnecing\\n‘Advoced Interactive Capes\\nCompilers + Prcticun\\n\\nGhoul Comeuing\\n\\nEvolutionary Computation\\nDefending Compute Networks\\nMachine Learning\\n\\nUNDERGRADUATE\\nInformation Retrieval\\nOperating systems\\n\\n‘Atel itligence + Practicum\\nFunctional rogramnieg\\nComputer Graphics» Practicum\\n(inch ae act\\n\\nUse ToolsandSerpting\\n\\nSKILLS\\n\\nPROGRAMMING\\nver 5000 nes:\\n\\nSa» Shall» Python » Javascript\\n‘OCaml « Mati Rais EE\\n‘Over 1000 ines\\n\\nCe cit «C55 = PHP «Assembly\\nFamilae\\n\\n‘AS39108 « Android» MySQL\\n\\n \\n\\nEXPERIENCE\\n\\nFACEBOOK | Sorrwane Enaincen\\ndan 2015 - Present |New York NY\\n\\nCCOURSERA | KPCS FeLLow + SOFTWARE ENGINEERING INTERN\\nJune 2014 ~ Sep 2034 [Mountain View, CA\\n> 52.u% of 2500 aplicants chosen tbe a KPCB Flow 2014\\n+ Led ad shipped Yd the admin terface fr the new Phoenixpltform.\\n+ Fulkstack developer. Wrote and revewedcoe or Suing Backbone, ae,\\nStylus an Regul and Saari Play\\n\\nGOOGLE | Sorrwane ENcINEERING INTERN,\\nMay 2033 ~ Aug 2013] Mountain View. CA\\n+ Worked onthe YouTube Caption ean Javascrtand Python plan to\\n‘design anc develop the ul tack to ad rect Automate Speech Recagntion\\ntaptians production,\\n+ Created abackbone|-tke framework fr the Captions eto\\n\\nPHABRICATOR | OPen Source ContRIGUTOR & TEAM LEADER:\\ndan 2013 - May 2033 [Palo Alto, CA &thaea NY\\n+ Prabrcater ised daly by Facebook Drapox, Qura Asa and more\\n+ Icreated the Meme generator andmore in PHP 2 Shel\\n* Led ates trom MIT, Cerne CLandn and UHelsin fr the projec\\n\\nRESEARCH\\n\\nCORNELL ROBOT LEARNINGLAB | Rescancnen\\ndan 2014 ~ Jan 2035 | thaca, NY\\n\\n‘Wrest Aches Jin ar Prof Ashutosh Saxena teste Pant. tol whieh\\nleans from large scale user pretercece feedback to pln ret Ujetaisinhuran\\n\\nCORNELL PHONETICS LAB | Hexo UNDERGRADUATE RESEARCHER\\nMar 2012 ~ May 2013|thaca, NY\\n\\nLethe develooment of QuekTongue the fst evr breaktv ough tongue controled\\nfe vith Pro Sam Tien toa Linguists research\\n\\nAWARDS\\n\\n2014 10p52/2500 KPCA Engineering Fell\\n\\n2014 1/50 Microsoft Coding Competition Core\\n\\n2013 National sump Trading Change Fnast\\n\\n2013 7/120 C5410 Cache Race Bot ournaent\\n\\n2012 24/150 C$.2110Siamual nia Cae Bot Tournament\\n\\n2012. Natlonal —_Indan National Mathematics ympiad ON MO} Final\\nPUBLICATIONS\\n\\n[1] AiO. Das anc A Sena, Plant A cromecurcing operas for learing to\\nlan paths rem large scale preference fecock. Teh apr ICRA In press\\n\\n[2] S Teen, D. Das and Mekee. Realtime articulstorybofedack with\\nclecteamagretic aculeg7 apy. Lingus Vanguard n press\\n\\n \\n\\x0c\""
      ]
     },
     "execution_count": 15,
     "metadata": {},
     "output_type": "execute_result"
    }
   ],
   "source": [
    "text"
   ]
  },
  {
   "cell_type": "code",
   "execution_count": 16,
   "metadata": {},
   "outputs": [
    {
     "ename": "ValueError",
     "evalue": "All strings must be XML compatible: Unicode or ASCII, no NULL bytes or control characters",
     "output_type": "error",
     "traceback": [
      "\u001b[0;31m---------------------------------------------------------------------------\u001b[0m",
      "\u001b[0;31mValueError\u001b[0m                                Traceback (most recent call last)",
      "Cell \u001b[0;32mIn[16], line 2\u001b[0m\n\u001b[1;32m      1\u001b[0m doc \u001b[39m=\u001b[39m Document()\n\u001b[0;32m----> 2\u001b[0m doc\u001b[39m.\u001b[39;49madd_paragraph(text)\n\u001b[1;32m      3\u001b[0m doc\u001b[39m.\u001b[39msave(\u001b[39m'\u001b[39m\u001b[39mdemo.docx\u001b[39m\u001b[39m'\u001b[39m)\n",
      "File \u001b[0;32m~/Desktop/talview/OCR/tesseract/venv/lib/python3.10/site-packages/docx/document.py:56\u001b[0m, in \u001b[0;36mDocument.add_paragraph\u001b[0;34m(self, text, style)\u001b[0m\n\u001b[1;32m     47\u001b[0m \u001b[39mdef\u001b[39;00m \u001b[39madd_paragraph\u001b[39m(\u001b[39mself\u001b[39m, text\u001b[39m=\u001b[39m\u001b[39m'\u001b[39m\u001b[39m'\u001b[39m, style\u001b[39m=\u001b[39m\u001b[39mNone\u001b[39;00m):\n\u001b[1;32m     48\u001b[0m \u001b[39m    \u001b[39m\u001b[39m\"\"\"\u001b[39;00m\n\u001b[1;32m     49\u001b[0m \u001b[39m    Return a paragraph newly added to the end of the document, populated\u001b[39;00m\n\u001b[1;32m     50\u001b[0m \u001b[39m    with *text* and having paragraph style *style*. *text* can contain\u001b[39;00m\n\u001b[0;32m   (...)\u001b[0m\n\u001b[1;32m     54\u001b[0m \u001b[39m    break.\u001b[39;00m\n\u001b[1;32m     55\u001b[0m \u001b[39m    \"\"\"\u001b[39;00m\n\u001b[0;32m---> 56\u001b[0m     \u001b[39mreturn\u001b[39;00m \u001b[39mself\u001b[39;49m\u001b[39m.\u001b[39;49m_body\u001b[39m.\u001b[39;49madd_paragraph(text, style)\n",
      "File \u001b[0;32m~/Desktop/talview/OCR/tesseract/venv/lib/python3.10/site-packages/docx/blkcntnr.py:37\u001b[0m, in \u001b[0;36mBlockItemContainer.add_paragraph\u001b[0;34m(self, text, style)\u001b[0m\n\u001b[1;32m     35\u001b[0m paragraph \u001b[39m=\u001b[39m \u001b[39mself\u001b[39m\u001b[39m.\u001b[39m_add_paragraph()\n\u001b[1;32m     36\u001b[0m \u001b[39mif\u001b[39;00m text:\n\u001b[0;32m---> 37\u001b[0m     paragraph\u001b[39m.\u001b[39;49madd_run(text)\n\u001b[1;32m     38\u001b[0m \u001b[39mif\u001b[39;00m style \u001b[39mis\u001b[39;00m \u001b[39mnot\u001b[39;00m \u001b[39mNone\u001b[39;00m:\n\u001b[1;32m     39\u001b[0m     paragraph\u001b[39m.\u001b[39mstyle \u001b[39m=\u001b[39m style\n",
      "File \u001b[0;32m~/Desktop/talview/OCR/tesseract/venv/lib/python3.10/site-packages/docx/text/paragraph.py:37\u001b[0m, in \u001b[0;36mParagraph.add_run\u001b[0;34m(self, text, style)\u001b[0m\n\u001b[1;32m     35\u001b[0m run \u001b[39m=\u001b[39m Run(r, \u001b[39mself\u001b[39m)\n\u001b[1;32m     36\u001b[0m \u001b[39mif\u001b[39;00m text:\n\u001b[0;32m---> 37\u001b[0m     run\u001b[39m.\u001b[39;49mtext \u001b[39m=\u001b[39m text\n\u001b[1;32m     38\u001b[0m \u001b[39mif\u001b[39;00m style:\n\u001b[1;32m     39\u001b[0m     run\u001b[39m.\u001b[39mstyle \u001b[39m=\u001b[39m style\n",
      "File \u001b[0;32m~/Desktop/talview/OCR/tesseract/venv/lib/python3.10/site-packages/docx/text/run.py:163\u001b[0m, in \u001b[0;36mRun.text\u001b[0;34m(self, text)\u001b[0m\n\u001b[1;32m    161\u001b[0m \u001b[39m@text\u001b[39m\u001b[39m.\u001b[39msetter\n\u001b[1;32m    162\u001b[0m \u001b[39mdef\u001b[39;00m \u001b[39mtext\u001b[39m(\u001b[39mself\u001b[39m, text):\n\u001b[0;32m--> 163\u001b[0m     \u001b[39mself\u001b[39;49m\u001b[39m.\u001b[39;49m_r\u001b[39m.\u001b[39;49mtext \u001b[39m=\u001b[39m text\n",
      "File \u001b[0;32m~/Desktop/talview/OCR/tesseract/venv/lib/python3.10/site-packages/docx/oxml/text/run.py:104\u001b[0m, in \u001b[0;36mCT_R.text\u001b[0;34m(self, text)\u001b[0m\n\u001b[1;32m    101\u001b[0m \u001b[39m@text\u001b[39m\u001b[39m.\u001b[39msetter\n\u001b[1;32m    102\u001b[0m \u001b[39mdef\u001b[39;00m \u001b[39mtext\u001b[39m(\u001b[39mself\u001b[39m, text):\n\u001b[1;32m    103\u001b[0m     \u001b[39mself\u001b[39m\u001b[39m.\u001b[39mclear_content()\n\u001b[0;32m--> 104\u001b[0m     _RunContentAppender\u001b[39m.\u001b[39;49mappend_to_run_from_text(\u001b[39mself\u001b[39;49m, text)\n",
      "File \u001b[0;32m~/Desktop/talview/OCR/tesseract/venv/lib/python3.10/site-packages/docx/oxml/text/run.py:134\u001b[0m, in \u001b[0;36m_RunContentAppender.append_to_run_from_text\u001b[0;34m(cls, r, text)\u001b[0m\n\u001b[1;32m    128\u001b[0m \u001b[39m\u001b[39m\u001b[39m\"\"\"\u001b[39;00m\n\u001b[1;32m    129\u001b[0m \u001b[39mCreate a \"one-shot\" ``_RunContentAppender`` instance and use it to\u001b[39;00m\n\u001b[1;32m    130\u001b[0m \u001b[39mappend the run content elements corresponding to *text* to the\u001b[39;00m\n\u001b[1;32m    131\u001b[0m \u001b[39m``<w:r>`` element *r*.\u001b[39;00m\n\u001b[1;32m    132\u001b[0m \u001b[39m\"\"\"\u001b[39;00m\n\u001b[1;32m    133\u001b[0m appender \u001b[39m=\u001b[39m \u001b[39mcls\u001b[39m(r)\n\u001b[0;32m--> 134\u001b[0m appender\u001b[39m.\u001b[39;49madd_text(text)\n",
      "File \u001b[0;32m~/Desktop/talview/OCR/tesseract/venv/lib/python3.10/site-packages/docx/oxml/text/run.py:143\u001b[0m, in \u001b[0;36m_RunContentAppender.add_text\u001b[0;34m(self, text)\u001b[0m\n\u001b[1;32m    141\u001b[0m \u001b[39mfor\u001b[39;00m char \u001b[39min\u001b[39;00m text:\n\u001b[1;32m    142\u001b[0m     \u001b[39mself\u001b[39m\u001b[39m.\u001b[39madd_char(char)\n\u001b[0;32m--> 143\u001b[0m \u001b[39mself\u001b[39;49m\u001b[39m.\u001b[39;49mflush()\n",
      "File \u001b[0;32m~/Desktop/talview/OCR/tesseract/venv/lib/python3.10/site-packages/docx/oxml/text/run.py:165\u001b[0m, in \u001b[0;36m_RunContentAppender.flush\u001b[0;34m(self)\u001b[0m\n\u001b[1;32m    163\u001b[0m text \u001b[39m=\u001b[39m \u001b[39m'\u001b[39m\u001b[39m'\u001b[39m\u001b[39m.\u001b[39mjoin(\u001b[39mself\u001b[39m\u001b[39m.\u001b[39m_bfr)\n\u001b[1;32m    164\u001b[0m \u001b[39mif\u001b[39;00m text:\n\u001b[0;32m--> 165\u001b[0m     \u001b[39mself\u001b[39;49m\u001b[39m.\u001b[39;49m_r\u001b[39m.\u001b[39;49madd_t(text)\n\u001b[1;32m    166\u001b[0m \u001b[39mdel\u001b[39;00m \u001b[39mself\u001b[39m\u001b[39m.\u001b[39m_bfr[:]\n",
      "File \u001b[0;32m~/Desktop/talview/OCR/tesseract/venv/lib/python3.10/site-packages/docx/oxml/text/run.py:41\u001b[0m, in \u001b[0;36mCT_R.add_t\u001b[0;34m(self, text)\u001b[0m\n\u001b[1;32m     37\u001b[0m \u001b[39mdef\u001b[39;00m \u001b[39madd_t\u001b[39m(\u001b[39mself\u001b[39m, text):\n\u001b[1;32m     38\u001b[0m \u001b[39m    \u001b[39m\u001b[39m\"\"\"\u001b[39;00m\n\u001b[1;32m     39\u001b[0m \u001b[39m    Return a newly added ``<w:t>`` element containing *text*.\u001b[39;00m\n\u001b[1;32m     40\u001b[0m \u001b[39m    \"\"\"\u001b[39;00m\n\u001b[0;32m---> 41\u001b[0m     t \u001b[39m=\u001b[39m \u001b[39mself\u001b[39;49m\u001b[39m.\u001b[39;49m_add_t(text\u001b[39m=\u001b[39;49mtext)\n\u001b[1;32m     42\u001b[0m     \u001b[39mif\u001b[39;00m \u001b[39mlen\u001b[39m(text\u001b[39m.\u001b[39mstrip()) \u001b[39m<\u001b[39m \u001b[39mlen\u001b[39m(text):\n\u001b[1;32m     43\u001b[0m         t\u001b[39m.\u001b[39mset(qn(\u001b[39m'\u001b[39m\u001b[39mxml:space\u001b[39m\u001b[39m'\u001b[39m), \u001b[39m'\u001b[39m\u001b[39mpreserve\u001b[39m\u001b[39m'\u001b[39m)\n",
      "File \u001b[0;32m~/Desktop/talview/OCR/tesseract/venv/lib/python3.10/site-packages/docx/oxml/xmlchemy.py:273\u001b[0m, in \u001b[0;36m_BaseChildElement._add_adder.<locals>._add_child\u001b[0;34m(obj, **attrs)\u001b[0m\n\u001b[1;32m    271\u001b[0m child \u001b[39m=\u001b[39m new_method()\n\u001b[1;32m    272\u001b[0m \u001b[39mfor\u001b[39;00m key, value \u001b[39min\u001b[39;00m attrs\u001b[39m.\u001b[39mitems():\n\u001b[0;32m--> 273\u001b[0m     \u001b[39msetattr\u001b[39;49m(child, key, value)\n\u001b[1;32m    274\u001b[0m insert_method \u001b[39m=\u001b[39m \u001b[39mgetattr\u001b[39m(obj, \u001b[39mself\u001b[39m\u001b[39m.\u001b[39m_insert_method_name)\n\u001b[1;32m    275\u001b[0m insert_method(child)\n",
      "File \u001b[0;32msrc/lxml/etree.pyx:1042\u001b[0m, in \u001b[0;36mlxml.etree._Element.text.__set__\u001b[0;34m()\u001b[0m\n",
      "File \u001b[0;32msrc/lxml/apihelpers.pxi:748\u001b[0m, in \u001b[0;36mlxml.etree._setNodeText\u001b[0;34m()\u001b[0m\n",
      "File \u001b[0;32msrc/lxml/apihelpers.pxi:736\u001b[0m, in \u001b[0;36mlxml.etree._createTextNode\u001b[0;34m()\u001b[0m\n",
      "File \u001b[0;32msrc/lxml/apihelpers.pxi:1541\u001b[0m, in \u001b[0;36mlxml.etree._utf8\u001b[0;34m()\u001b[0m\n",
      "\u001b[0;31mValueError\u001b[0m: All strings must be XML compatible: Unicode or ASCII, no NULL bytes or control characters"
     ]
    }
   ],
   "source": [
    "doc = Document()\n",
    "doc.add_paragraph(text)\n",
    "doc.save('demo.docx')"
   ]
  },
  {
   "cell_type": "code",
   "execution_count": 17,
   "metadata": {},
   "outputs": [
    {
     "data": {
      "text/plain": [
       "\" \\n\\nDebarghya Das\\n\\ndeedyeatb.com | 607.379.5733 dd367~comelLedy\\n\\ndobarghyadas.com| fo.co/dd\\n\\n \\n\\n \\n\\nEDUCATION\\n\\n‘CORNELL UNIVERSITY\\nMENG IN ComPUTER SCIENCE\\nDee 2024 ithaca, NY\\n\\n‘CORNELL UNIVERSITY\\nBSN COMPUTER SCIENCE\\nMay 20.41 Rhaca, NY\\nCalege of Engineering\\n\\nMagn Cum tute\\n\\nCum GPA'383 / 40\\n\\nMajor GPA 39/40\\n\\nLAMARTINIERE FOR BOYS\\nGrad, May 2011 Kolkata, Ina\\n\\nLINKS\\nFacebook\\n\\nChub deed\\nUnteclin debarghadas\\nYouTube. DeedyDasho0?\\nTits @debargya, das\\n(Quota Debary Das\\n\\nCOURSEWORK\\n\\nGRADUATE\\n‘Advoced Machine Leaning\\n(OpenSource Software Engnecing\\n‘Advoced Interactive Capes\\nCompilers + Prcticun\\n\\nGhoul Comeuing\\n\\nEvolutionary Computation\\nDefending Compute Networks\\nMachine Learning\\n\\nUNDERGRADUATE\\nInformation Retrieval\\nOperating systems\\n\\n‘Atel itligence + Practicum\\nFunctional rogramnieg\\nComputer Graphics» Practicum\\n(inch ae act\\n\\nUse ToolsandSerpting\\n\\nSKILLS\\n\\nPROGRAMMING\\nver 5000 nes:\\n\\nSa» Shall» Python » Javascript\\n‘OCaml « Mati Rais EE\\n‘Over 1000 ines\\n\\nCe cit «C55 = PHP «Assembly\\nFamilae\\n\\n‘AS39108 « Android» MySQL\\n\\n \\n\\nEXPERIENCE\\n\\nFACEBOOK | Sorrwane Enaincen\\ndan 2015 - Present |New York NY\\n\\nCCOURSERA | KPCS FeLLow + SOFTWARE ENGINEERING INTERN\\nJune 2014 ~ Sep 2034 [Mountain View, CA\\n> 52.u% of 2500 aplicants chosen tbe a KPCB Flow 2014\\n+ Led ad shipped Yd the admin terface fr the new Phoenixpltform.\\n+ Fulkstack developer. Wrote and revewedcoe or Suing Backbone, ae,\\nStylus an Regul and Saari Play\\n\\nGOOGLE | Sorrwane ENcINEERING INTERN,\\nMay 2033 ~ Aug 2013] Mountain View. CA\\n+ Worked onthe YouTube Caption ean Javascrtand Python plan to\\n‘design anc develop the ul tack to ad rect Automate Speech Recagntion\\ntaptians production,\\n+ Created abackbone|-tke framework fr the Captions eto\\n\\nPHABRICATOR | OPen Source ContRIGUTOR & TEAM LEADER:\\ndan 2013 - May 2033 [Palo Alto, CA &thaea NY\\n+ Prabrcater ised daly by Facebook Drapox, Qura Asa and more\\n+ Icreated the Meme generator andmore in PHP 2 Shel\\n* Led ates trom MIT, Cerne CLandn and UHelsin fr the projec\\n\\nRESEARCH\\n\\nCORNELL ROBOT LEARNINGLAB | Rescancnen\\ndan 2014 ~ Jan 2035 | thaca, NY\\n\\n‘Wrest Aches Jin ar Prof Ashutosh Saxena teste Pant. tol whieh\\nleans from large scale user pretercece feedback to pln ret Ujetaisinhuran\\n\\nCORNELL PHONETICS LAB | Hexo UNDERGRADUATE RESEARCHER\\nMar 2012 ~ May 2013|thaca, NY\\n\\nLethe develooment of QuekTongue the fst evr breaktv ough tongue controled\\nfe vith Pro Sam Tien toa Linguists research\\n\\nAWARDS\\n\\n2014 10p52/2500 KPCA Engineering Fell\\n\\n2014 1/50 Microsoft Coding Competition Core\\n\\n2013 National sump Trading Change Fnast\\n\\n2013 7/120 C5410 Cache Race Bot ournaent\\n\\n2012 24/150 C$.2110Siamual nia Cae Bot Tournament\\n\\n2012. Natlonal —_Indan National Mathematics ympiad ON MO} Final\\nPUBLICATIONS\\n\\n[1] AiO. Das anc A Sena, Plant A cromecurcing operas for learing to\\nlan paths rem large scale preference fecock. Teh apr ICRA In press\\n\\n[2] S Teen, D. Das and Mekee. Realtime articulstorybofedack with\\nclecteamagretic aculeg7 apy. Lingus Vanguard n press\\n\\n \\n\\x0c\""
      ]
     },
     "execution_count": 17,
     "metadata": {},
     "output_type": "execute_result"
    }
   ],
   "source": [
    "text"
   ]
  },
  {
   "cell_type": "code",
   "execution_count": 18,
   "metadata": {},
   "outputs": [
    {
     "ename": "ValueError",
     "evalue": "All strings must be XML compatible: Unicode or ASCII, no NULL bytes or control characters",
     "output_type": "error",
     "traceback": [
      "\u001b[0;31m---------------------------------------------------------------------------\u001b[0m",
      "\u001b[0;31mValueError\u001b[0m                                Traceback (most recent call last)",
      "Cell \u001b[0;32mIn[18], line 3\u001b[0m\n\u001b[1;32m      1\u001b[0m indented_text \u001b[39m=\u001b[39m \u001b[39m'\u001b[39m\u001b[39m\\t\u001b[39;00m\u001b[39m'\u001b[39m \u001b[39m+\u001b[39m text\u001b[39m.\u001b[39mreplace(\u001b[39m'\u001b[39m\u001b[39m\\n\u001b[39;00m\u001b[39m'\u001b[39m, \u001b[39m'\u001b[39m\u001b[39m\\n\u001b[39;00m\u001b[39m\\t\u001b[39;00m\u001b[39m'\u001b[39m)\n\u001b[0;32m----> 3\u001b[0m doc\u001b[39m.\u001b[39;49madd_paragraph(indented_text)\n\u001b[1;32m      5\u001b[0m doc\u001b[39m.\u001b[39msave(\u001b[39m'\u001b[39m\u001b[39mpath/to/doc/file.docx\u001b[39m\u001b[39m'\u001b[39m)\n",
      "File \u001b[0;32m~/Desktop/talview/OCR/tesseract/venv/lib/python3.10/site-packages/docx/document.py:56\u001b[0m, in \u001b[0;36mDocument.add_paragraph\u001b[0;34m(self, text, style)\u001b[0m\n\u001b[1;32m     47\u001b[0m \u001b[39mdef\u001b[39;00m \u001b[39madd_paragraph\u001b[39m(\u001b[39mself\u001b[39m, text\u001b[39m=\u001b[39m\u001b[39m'\u001b[39m\u001b[39m'\u001b[39m, style\u001b[39m=\u001b[39m\u001b[39mNone\u001b[39;00m):\n\u001b[1;32m     48\u001b[0m \u001b[39m    \u001b[39m\u001b[39m\"\"\"\u001b[39;00m\n\u001b[1;32m     49\u001b[0m \u001b[39m    Return a paragraph newly added to the end of the document, populated\u001b[39;00m\n\u001b[1;32m     50\u001b[0m \u001b[39m    with *text* and having paragraph style *style*. *text* can contain\u001b[39;00m\n\u001b[0;32m   (...)\u001b[0m\n\u001b[1;32m     54\u001b[0m \u001b[39m    break.\u001b[39;00m\n\u001b[1;32m     55\u001b[0m \u001b[39m    \"\"\"\u001b[39;00m\n\u001b[0;32m---> 56\u001b[0m     \u001b[39mreturn\u001b[39;00m \u001b[39mself\u001b[39;49m\u001b[39m.\u001b[39;49m_body\u001b[39m.\u001b[39;49madd_paragraph(text, style)\n",
      "File \u001b[0;32m~/Desktop/talview/OCR/tesseract/venv/lib/python3.10/site-packages/docx/blkcntnr.py:37\u001b[0m, in \u001b[0;36mBlockItemContainer.add_paragraph\u001b[0;34m(self, text, style)\u001b[0m\n\u001b[1;32m     35\u001b[0m paragraph \u001b[39m=\u001b[39m \u001b[39mself\u001b[39m\u001b[39m.\u001b[39m_add_paragraph()\n\u001b[1;32m     36\u001b[0m \u001b[39mif\u001b[39;00m text:\n\u001b[0;32m---> 37\u001b[0m     paragraph\u001b[39m.\u001b[39;49madd_run(text)\n\u001b[1;32m     38\u001b[0m \u001b[39mif\u001b[39;00m style \u001b[39mis\u001b[39;00m \u001b[39mnot\u001b[39;00m \u001b[39mNone\u001b[39;00m:\n\u001b[1;32m     39\u001b[0m     paragraph\u001b[39m.\u001b[39mstyle \u001b[39m=\u001b[39m style\n",
      "File \u001b[0;32m~/Desktop/talview/OCR/tesseract/venv/lib/python3.10/site-packages/docx/text/paragraph.py:37\u001b[0m, in \u001b[0;36mParagraph.add_run\u001b[0;34m(self, text, style)\u001b[0m\n\u001b[1;32m     35\u001b[0m run \u001b[39m=\u001b[39m Run(r, \u001b[39mself\u001b[39m)\n\u001b[1;32m     36\u001b[0m \u001b[39mif\u001b[39;00m text:\n\u001b[0;32m---> 37\u001b[0m     run\u001b[39m.\u001b[39;49mtext \u001b[39m=\u001b[39m text\n\u001b[1;32m     38\u001b[0m \u001b[39mif\u001b[39;00m style:\n\u001b[1;32m     39\u001b[0m     run\u001b[39m.\u001b[39mstyle \u001b[39m=\u001b[39m style\n",
      "File \u001b[0;32m~/Desktop/talview/OCR/tesseract/venv/lib/python3.10/site-packages/docx/text/run.py:163\u001b[0m, in \u001b[0;36mRun.text\u001b[0;34m(self, text)\u001b[0m\n\u001b[1;32m    161\u001b[0m \u001b[39m@text\u001b[39m\u001b[39m.\u001b[39msetter\n\u001b[1;32m    162\u001b[0m \u001b[39mdef\u001b[39;00m \u001b[39mtext\u001b[39m(\u001b[39mself\u001b[39m, text):\n\u001b[0;32m--> 163\u001b[0m     \u001b[39mself\u001b[39;49m\u001b[39m.\u001b[39;49m_r\u001b[39m.\u001b[39;49mtext \u001b[39m=\u001b[39m text\n",
      "File \u001b[0;32m~/Desktop/talview/OCR/tesseract/venv/lib/python3.10/site-packages/docx/oxml/text/run.py:104\u001b[0m, in \u001b[0;36mCT_R.text\u001b[0;34m(self, text)\u001b[0m\n\u001b[1;32m    101\u001b[0m \u001b[39m@text\u001b[39m\u001b[39m.\u001b[39msetter\n\u001b[1;32m    102\u001b[0m \u001b[39mdef\u001b[39;00m \u001b[39mtext\u001b[39m(\u001b[39mself\u001b[39m, text):\n\u001b[1;32m    103\u001b[0m     \u001b[39mself\u001b[39m\u001b[39m.\u001b[39mclear_content()\n\u001b[0;32m--> 104\u001b[0m     _RunContentAppender\u001b[39m.\u001b[39;49mappend_to_run_from_text(\u001b[39mself\u001b[39;49m, text)\n",
      "File \u001b[0;32m~/Desktop/talview/OCR/tesseract/venv/lib/python3.10/site-packages/docx/oxml/text/run.py:134\u001b[0m, in \u001b[0;36m_RunContentAppender.append_to_run_from_text\u001b[0;34m(cls, r, text)\u001b[0m\n\u001b[1;32m    128\u001b[0m \u001b[39m\u001b[39m\u001b[39m\"\"\"\u001b[39;00m\n\u001b[1;32m    129\u001b[0m \u001b[39mCreate a \"one-shot\" ``_RunContentAppender`` instance and use it to\u001b[39;00m\n\u001b[1;32m    130\u001b[0m \u001b[39mappend the run content elements corresponding to *text* to the\u001b[39;00m\n\u001b[1;32m    131\u001b[0m \u001b[39m``<w:r>`` element *r*.\u001b[39;00m\n\u001b[1;32m    132\u001b[0m \u001b[39m\"\"\"\u001b[39;00m\n\u001b[1;32m    133\u001b[0m appender \u001b[39m=\u001b[39m \u001b[39mcls\u001b[39m(r)\n\u001b[0;32m--> 134\u001b[0m appender\u001b[39m.\u001b[39;49madd_text(text)\n",
      "File \u001b[0;32m~/Desktop/talview/OCR/tesseract/venv/lib/python3.10/site-packages/docx/oxml/text/run.py:143\u001b[0m, in \u001b[0;36m_RunContentAppender.add_text\u001b[0;34m(self, text)\u001b[0m\n\u001b[1;32m    141\u001b[0m \u001b[39mfor\u001b[39;00m char \u001b[39min\u001b[39;00m text:\n\u001b[1;32m    142\u001b[0m     \u001b[39mself\u001b[39m\u001b[39m.\u001b[39madd_char(char)\n\u001b[0;32m--> 143\u001b[0m \u001b[39mself\u001b[39;49m\u001b[39m.\u001b[39;49mflush()\n",
      "File \u001b[0;32m~/Desktop/talview/OCR/tesseract/venv/lib/python3.10/site-packages/docx/oxml/text/run.py:165\u001b[0m, in \u001b[0;36m_RunContentAppender.flush\u001b[0;34m(self)\u001b[0m\n\u001b[1;32m    163\u001b[0m text \u001b[39m=\u001b[39m \u001b[39m'\u001b[39m\u001b[39m'\u001b[39m\u001b[39m.\u001b[39mjoin(\u001b[39mself\u001b[39m\u001b[39m.\u001b[39m_bfr)\n\u001b[1;32m    164\u001b[0m \u001b[39mif\u001b[39;00m text:\n\u001b[0;32m--> 165\u001b[0m     \u001b[39mself\u001b[39;49m\u001b[39m.\u001b[39;49m_r\u001b[39m.\u001b[39;49madd_t(text)\n\u001b[1;32m    166\u001b[0m \u001b[39mdel\u001b[39;00m \u001b[39mself\u001b[39m\u001b[39m.\u001b[39m_bfr[:]\n",
      "File \u001b[0;32m~/Desktop/talview/OCR/tesseract/venv/lib/python3.10/site-packages/docx/oxml/text/run.py:41\u001b[0m, in \u001b[0;36mCT_R.add_t\u001b[0;34m(self, text)\u001b[0m\n\u001b[1;32m     37\u001b[0m \u001b[39mdef\u001b[39;00m \u001b[39madd_t\u001b[39m(\u001b[39mself\u001b[39m, text):\n\u001b[1;32m     38\u001b[0m \u001b[39m    \u001b[39m\u001b[39m\"\"\"\u001b[39;00m\n\u001b[1;32m     39\u001b[0m \u001b[39m    Return a newly added ``<w:t>`` element containing *text*.\u001b[39;00m\n\u001b[1;32m     40\u001b[0m \u001b[39m    \"\"\"\u001b[39;00m\n\u001b[0;32m---> 41\u001b[0m     t \u001b[39m=\u001b[39m \u001b[39mself\u001b[39;49m\u001b[39m.\u001b[39;49m_add_t(text\u001b[39m=\u001b[39;49mtext)\n\u001b[1;32m     42\u001b[0m     \u001b[39mif\u001b[39;00m \u001b[39mlen\u001b[39m(text\u001b[39m.\u001b[39mstrip()) \u001b[39m<\u001b[39m \u001b[39mlen\u001b[39m(text):\n\u001b[1;32m     43\u001b[0m         t\u001b[39m.\u001b[39mset(qn(\u001b[39m'\u001b[39m\u001b[39mxml:space\u001b[39m\u001b[39m'\u001b[39m), \u001b[39m'\u001b[39m\u001b[39mpreserve\u001b[39m\u001b[39m'\u001b[39m)\n",
      "File \u001b[0;32m~/Desktop/talview/OCR/tesseract/venv/lib/python3.10/site-packages/docx/oxml/xmlchemy.py:273\u001b[0m, in \u001b[0;36m_BaseChildElement._add_adder.<locals>._add_child\u001b[0;34m(obj, **attrs)\u001b[0m\n\u001b[1;32m    271\u001b[0m child \u001b[39m=\u001b[39m new_method()\n\u001b[1;32m    272\u001b[0m \u001b[39mfor\u001b[39;00m key, value \u001b[39min\u001b[39;00m attrs\u001b[39m.\u001b[39mitems():\n\u001b[0;32m--> 273\u001b[0m     \u001b[39msetattr\u001b[39;49m(child, key, value)\n\u001b[1;32m    274\u001b[0m insert_method \u001b[39m=\u001b[39m \u001b[39mgetattr\u001b[39m(obj, \u001b[39mself\u001b[39m\u001b[39m.\u001b[39m_insert_method_name)\n\u001b[1;32m    275\u001b[0m insert_method(child)\n",
      "File \u001b[0;32msrc/lxml/etree.pyx:1042\u001b[0m, in \u001b[0;36mlxml.etree._Element.text.__set__\u001b[0;34m()\u001b[0m\n",
      "File \u001b[0;32msrc/lxml/apihelpers.pxi:748\u001b[0m, in \u001b[0;36mlxml.etree._setNodeText\u001b[0;34m()\u001b[0m\n",
      "File \u001b[0;32msrc/lxml/apihelpers.pxi:736\u001b[0m, in \u001b[0;36mlxml.etree._createTextNode\u001b[0;34m()\u001b[0m\n",
      "File \u001b[0;32msrc/lxml/apihelpers.pxi:1541\u001b[0m, in \u001b[0;36mlxml.etree._utf8\u001b[0;34m()\u001b[0m\n",
      "\u001b[0;31mValueError\u001b[0m: All strings must be XML compatible: Unicode or ASCII, no NULL bytes or control characters"
     ]
    }
   ],
   "source": [
    "indented_text = '\\t' + text.replace('\\n', '\\n\\t')\n",
    "\n",
    "doc.add_paragraph(indented_text)\n",
    "\n",
    "doc.save('path/to/doc/file.docx')"
   ]
  },
  {
   "cell_type": "code",
   "execution_count": 19,
   "metadata": {},
   "outputs": [
    {
     "data": {
      "text/plain": [
       "\"\\t \\n\\t\\n\\tDebarghya Das\\n\\t\\n\\tdeedyeatb.com | 607.379.5733 dd367~comelLedy\\n\\t\\n\\tdobarghyadas.com| fo.co/dd\\n\\t\\n\\t \\n\\t\\n\\t \\n\\t\\n\\tEDUCATION\\n\\t\\n\\t‘CORNELL UNIVERSITY\\n\\tMENG IN ComPUTER SCIENCE\\n\\tDee 2024 ithaca, NY\\n\\t\\n\\t‘CORNELL UNIVERSITY\\n\\tBSN COMPUTER SCIENCE\\n\\tMay 20.41 Rhaca, NY\\n\\tCalege of Engineering\\n\\t\\n\\tMagn Cum tute\\n\\t\\n\\tCum GPA'383 / 40\\n\\t\\n\\tMajor GPA 39/40\\n\\t\\n\\tLAMARTINIERE FOR BOYS\\n\\tGrad, May 2011 Kolkata, Ina\\n\\t\\n\\tLINKS\\n\\tFacebook\\n\\t\\n\\tChub deed\\n\\tUnteclin debarghadas\\n\\tYouTube. DeedyDasho0?\\n\\tTits @debargya, das\\n\\t(Quota Debary Das\\n\\t\\n\\tCOURSEWORK\\n\\t\\n\\tGRADUATE\\n\\t‘Advoced Machine Leaning\\n\\t(OpenSource Software Engnecing\\n\\t‘Advoced Interactive Capes\\n\\tCompilers + Prcticun\\n\\t\\n\\tGhoul Comeuing\\n\\t\\n\\tEvolutionary Computation\\n\\tDefending Compute Networks\\n\\tMachine Learning\\n\\t\\n\\tUNDERGRADUATE\\n\\tInformation Retrieval\\n\\tOperating systems\\n\\t\\n\\t‘Atel itligence + Practicum\\n\\tFunctional rogramnieg\\n\\tComputer Graphics» Practicum\\n\\t(inch ae act\\n\\t\\n\\tUse ToolsandSerpting\\n\\t\\n\\tSKILLS\\n\\t\\n\\tPROGRAMMING\\n\\tver 5000 nes:\\n\\t\\n\\tSa» Shall» Python » Javascript\\n\\t‘OCaml « Mati Rais EE\\n\\t‘Over 1000 ines\\n\\t\\n\\tCe cit «C55 = PHP «Assembly\\n\\tFamilae\\n\\t\\n\\t‘AS39108 « Android» MySQL\\n\\t\\n\\t \\n\\t\\n\\tEXPERIENCE\\n\\t\\n\\tFACEBOOK | Sorrwane Enaincen\\n\\tdan 2015 - Present |New York NY\\n\\t\\n\\tCCOURSERA | KPCS FeLLow + SOFTWARE ENGINEERING INTERN\\n\\tJune 2014 ~ Sep 2034 [Mountain View, CA\\n\\t> 52.u% of 2500 aplicants chosen tbe a KPCB Flow 2014\\n\\t+ Led ad shipped Yd the admin terface fr the new Phoenixpltform.\\n\\t+ Fulkstack developer. Wrote and revewedcoe or Suing Backbone, ae,\\n\\tStylus an Regul and Saari Play\\n\\t\\n\\tGOOGLE | Sorrwane ENcINEERING INTERN,\\n\\tMay 2033 ~ Aug 2013] Mountain View. CA\\n\\t+ Worked onthe YouTube Caption ean Javascrtand Python plan to\\n\\t‘design anc develop the ul tack to ad rect Automate Speech Recagntion\\n\\ttaptians production,\\n\\t+ Created abackbone|-tke framework fr the Captions eto\\n\\t\\n\\tPHABRICATOR | OPen Source ContRIGUTOR & TEAM LEADER:\\n\\tdan 2013 - May 2033 [Palo Alto, CA &thaea NY\\n\\t+ Prabrcater ised daly by Facebook Drapox, Qura Asa and more\\n\\t+ Icreated the Meme generator andmore in PHP 2 Shel\\n\\t* Led ates trom MIT, Cerne CLandn and UHelsin fr the projec\\n\\t\\n\\tRESEARCH\\n\\t\\n\\tCORNELL ROBOT LEARNINGLAB | Rescancnen\\n\\tdan 2014 ~ Jan 2035 | thaca, NY\\n\\t\\n\\t‘Wrest Aches Jin ar Prof Ashutosh Saxena teste Pant. tol whieh\\n\\tleans from large scale user pretercece feedback to pln ret Ujetaisinhuran\\n\\t\\n\\tCORNELL PHONETICS LAB | Hexo UNDERGRADUATE RESEARCHER\\n\\tMar 2012 ~ May 2013|thaca, NY\\n\\t\\n\\tLethe develooment of QuekTongue the fst evr breaktv ough tongue controled\\n\\tfe vith Pro Sam Tien toa Linguists research\\n\\t\\n\\tAWARDS\\n\\t\\n\\t2014 10p52/2500 KPCA Engineering Fell\\n\\t\\n\\t2014 1/50 Microsoft Coding Competition Core\\n\\t\\n\\t2013 National sump Trading Change Fnast\\n\\t\\n\\t2013 7/120 C5410 Cache Race Bot ournaent\\n\\t\\n\\t2012 24/150 C$.2110Siamual nia Cae Bot Tournament\\n\\t\\n\\t2012. Natlonal —_Indan National Mathematics ympiad ON MO} Final\\n\\tPUBLICATIONS\\n\\t\\n\\t[1] AiO. Das anc A Sena, Plant A cromecurcing operas for learing to\\n\\tlan paths rem large scale preference fecock. Teh apr ICRA In press\\n\\t\\n\\t[2] S Teen, D. Das and Mekee. Realtime articulstorybofedack with\\n\\tclecteamagretic aculeg7 apy. Lingus Vanguard n press\\n\\t\\n\\t \\n\\t\\x0c\""
      ]
     },
     "execution_count": 19,
     "metadata": {},
     "output_type": "execute_result"
    }
   ],
   "source": [
    "indented_text\n"
   ]
  },
  {
   "cell_type": "code",
   "execution_count": null,
   "metadata": {},
   "outputs": [],
   "source": []
  }
 ],
 "metadata": {
  "kernelspec": {
   "display_name": "venv",
   "language": "python",
   "name": "python3"
  },
  "language_info": {
   "codemirror_mode": {
    "name": "ipython",
    "version": 3
   },
   "file_extension": ".py",
   "mimetype": "text/x-python",
   "name": "python",
   "nbconvert_exporter": "python",
   "pygments_lexer": "ipython3",
   "version": "3.10.6"
  },
  "orig_nbformat": 4
 },
 "nbformat": 4,
 "nbformat_minor": 2
}
